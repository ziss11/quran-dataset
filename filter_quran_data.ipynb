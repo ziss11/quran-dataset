{
 "cells": [
  {
   "cell_type": "code",
   "execution_count": 3,
   "metadata": {},
   "outputs": [],
   "source": [
    "import codecs\n",
    "import json"
   ]
  },
  {
   "cell_type": "code",
   "execution_count": 4,
   "metadata": {},
   "outputs": [],
   "source": [
    "def load_json(filename):\n",
    "    with codecs.open(filename, 'r', 'utf-8') as f:\n",
    "        data = json.load(f)\n",
    "\n",
    "    return data"
   ]
  },
  {
   "cell_type": "code",
   "execution_count": 33,
   "metadata": {},
   "outputs": [],
   "source": [
    "def build_surah():\n",
    "    quran1_path = 'old/quran.json'\n",
    "    quran2_path = 'old/quran_id.json'\n",
    "    \n",
    "    data1 = load_json(quran1_path)\n",
    "    data2 = load_json(quran2_path)\n",
    "    \n",
    "    unused_columns = ['recitation', 'place',\n",
    "                      'number_of_surah', 'number_of_ayah']\n",
    "    new_surah = list()\n",
    "    \n",
    "    en_revelation = ''\n",
    "    id_revelation = ''\n",
    "\n",
    "    for surah1, surah2 in zip(data1, data2):\n",
    "        if surah1['place'] == 'Mecca':\n",
    "            en_revelation = 'Mecca'\n",
    "            id_revelation = 'Mekkah'\n",
    "        elif surah1['place'] == 'Medina':\n",
    "            en_revelation = 'Medina'\n",
    "            id_revelation = 'Madinah'\n",
    "            \n",
    "        surah1['name'] = surah2['transliteration']\n",
    "\n",
    "        new = {'id': surah1['number_of_surah'],\n",
    "               'total_verse': surah1['number_of_ayah'],\n",
    "               'revelation': {'en': en_revelation, 'id': id_revelation}}\n",
    "        \n",
    "        new.update(surah1)    \n",
    "        new_surah.append(new)\n",
    "        \n",
    "    for surah in new_surah:\n",
    "        for column in unused_columns:\n",
    "            surah.pop(column)\n",
    "        \n",
    "    return {'surah': new_surah}\n"
   ]
  },
  {
   "cell_type": "code",
   "execution_count": 34,
   "metadata": {},
   "outputs": [],
   "source": [
    "surah = build_surah()\n",
    "with codecs.open('new/new_surah.json', 'w', 'utf-8') as f:\n",
    "    f.write(json.dumps(surah, ensure_ascii=False))"
   ]
  },
  {
   "cell_type": "code",
   "execution_count": 35,
   "metadata": {},
   "outputs": [],
   "source": [
    "def build_verses():\n",
    "    quran_id_path = 'old/quran_id.json'\n",
    "    quran_en_path = 'old/quran_en.json'\n",
    "\n",
    "    data_id = load_json(quran_id_path)\n",
    "    data_en = load_json(quran_en_path)\n",
    "    \n",
    "    new_verses = list()\n",
    "    \n",
    "    for idn, en in zip(data_id, data_en):\n",
    "        idn_verses = idn['verses']\n",
    "        en_verses = en['verses']\n",
    "        \n",
    "        for idn_verse, en_verse in zip(idn_verses, en_verses):\n",
    "            verse_model = {'id': idn_verse['id'],\n",
    "                        'text': idn_verse['text'],\n",
    "                        'translation': {\n",
    "                            'idn': idn_verse['translation'],\n",
    "                            'en': en_verse['translation'],\n",
    "                        }}\n",
    "        \n",
    "            new_verses.append(verse_model)\n",
    "    \n",
    "    return {'verses': new_verses}"
   ]
  },
  {
   "cell_type": "code",
   "execution_count": 36,
   "metadata": {},
   "outputs": [],
   "source": [
    "verses = build_verses()\n",
    "with codecs.open('new/new_verse.json', 'w', 'utf-8') as f:\n",
    "    f.write(json.dumps(verses, ensure_ascii=False))\n"
   ]
  }
 ],
 "metadata": {
  "kernelspec": {
   "display_name": "Python 3.10.5 64-bit",
   "language": "python",
   "name": "python3"
  },
  "language_info": {
   "codemirror_mode": {
    "name": "ipython",
    "version": 3
   },
   "file_extension": ".py",
   "mimetype": "text/x-python",
   "name": "python",
   "nbconvert_exporter": "python",
   "pygments_lexer": "ipython3",
   "version": "3.10.5"
  },
  "orig_nbformat": 4,
  "vscode": {
   "interpreter": {
    "hash": "5e9fe14cafb350ae8180d3c92a3b08bb8c340bec28ee2144b3833121d2bde3ff"
   }
  }
 },
 "nbformat": 4,
 "nbformat_minor": 2
}
